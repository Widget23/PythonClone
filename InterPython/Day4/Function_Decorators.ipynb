{
 "cells": [
  {
   "cell_type": "markdown",
   "metadata": {},
   "source": [
    "# Local Function Review"
   ]
  },
  {
   "cell_type": "code",
   "execution_count": 3,
   "metadata": {
    "collapsed": true
   },
   "outputs": [],
   "source": [
    "def outer_function():\n",
    "    message = \"Hi\"\n",
    "    def inner_function():\n",
    "        print(message)\n",
    "        \n",
    "    return inner_function()"
   ]
  },
  {
   "cell_type": "code",
   "execution_count": 4,
   "metadata": {},
   "outputs": [
    {
     "name": "stdout",
     "output_type": "stream",
     "text": [
      "Hi\n"
     ]
    }
   ],
   "source": [
    "# Test it\n",
    "outer_function()"
   ]
  },
  {
   "cell_type": "code",
   "execution_count": 5,
   "metadata": {
    "collapsed": true
   },
   "outputs": [],
   "source": [
    "def outer_function():\n",
    "    message = \"Hi\"\n",
    "    def inner_function():\n",
    "        print(message)\n",
    "    # Return the function. No ()    \n",
    "    return inner_function"
   ]
  },
  {
   "cell_type": "code",
   "execution_count": 6,
   "metadata": {},
   "outputs": [
    {
     "data": {
      "text/plain": [
       "<function __main__.outer_function.<locals>.inner_function>"
      ]
     },
     "execution_count": 6,
     "metadata": {},
     "output_type": "execute_result"
    }
   ],
   "source": [
    "my_func = outer_function()\n",
    "my_func"
   ]
  },
  {
   "cell_type": "code",
   "execution_count": 7,
   "metadata": {},
   "outputs": [
    {
     "name": "stdout",
     "output_type": "stream",
     "text": [
      "Hi\n"
     ]
    }
   ],
   "source": [
    "# Run it\n",
    "my_func()"
   ]
  },
  {
   "cell_type": "code",
   "execution_count": 8,
   "metadata": {},
   "outputs": [
    {
     "name": "stdout",
     "output_type": "stream",
     "text": [
      "Hi\n"
     ]
    }
   ],
   "source": [
    "my_func()"
   ]
  },
  {
   "cell_type": "code",
   "execution_count": 12,
   "metadata": {
    "collapsed": true
   },
   "outputs": [],
   "source": [
    "# Now add some variation\n",
    "def outer_function(msg):\n",
    "    message = msg\n",
    "    def inner_function():\n",
    "        print(message)\n",
    "        \n",
    "    return inner_function"
   ]
  },
  {
   "cell_type": "code",
   "execution_count": 13,
   "metadata": {},
   "outputs": [
    {
     "name": "stdout",
     "output_type": "stream",
     "text": [
      "Hi\n",
      "Bye\n"
     ]
    }
   ],
   "source": [
    "hi_func = outer_function(\"Hi\")\n",
    "bye_func = outer_function(\"Bye\")\n",
    "\n",
    "# Run it\n",
    "hi_func()\n",
    "bye_func()"
   ]
  },
  {
   "cell_type": "code",
   "execution_count": 15,
   "metadata": {
    "collapsed": true
   },
   "outputs": [],
   "source": [
    "# Now add some variables\n",
    "# Remove intermediate members\n",
    "def outer_function(msg):\n",
    "    def inner_function():\n",
    "        print(msg)\n",
    "        \n",
    "    return inner_function"
   ]
  },
  {
   "cell_type": "code",
   "execution_count": 16,
   "metadata": {},
   "outputs": [
    {
     "name": "stdout",
     "output_type": "stream",
     "text": [
      "Hi\n",
      "Bye\n"
     ]
    }
   ],
   "source": [
    "hi_func = outer_function(\"Hi\")\n",
    "bye_func = outer_function(\"Bye\")\n",
    "\n",
    "# Run it\n",
    "hi_func()\n",
    "bye_func()"
   ]
  },
  {
   "cell_type": "markdown",
   "metadata": {},
   "source": [
    "## Decorators\n",
    "- A function that takes another function as argument\n",
    "- Add some functionality\n",
    "- Returns another function\n",
    "- All of this without altering the original function"
   ]
  },
  {
   "cell_type": "code",
   "execution_count": 17,
   "metadata": {
    "collapsed": true
   },
   "outputs": [],
   "source": [
    "def decorator_function(original_function):\n",
    "    def wrapper_function():\n",
    "        return original_function()\n",
    "    # Return function\n",
    "    return wrapper_function\n",
    "\n",
    "def display():\n",
    "    print(\"Display function ran\")"
   ]
  },
  {
   "cell_type": "code",
   "execution_count": 19,
   "metadata": {},
   "outputs": [
    {
     "data": {
      "text/plain": [
       "<function __main__.decorator_function.<locals>.wrapper_function>"
      ]
     },
     "execution_count": 19,
     "metadata": {},
     "output_type": "execute_result"
    }
   ],
   "source": [
    "# Test it\n",
    "decorated_display = decorator_function(display)\n",
    "decorated_display"
   ]
  },
  {
   "cell_type": "code",
   "execution_count": 20,
   "metadata": {},
   "outputs": [
    {
     "name": "stdout",
     "output_type": "stream",
     "text": [
      "Display function ran\n"
     ]
    }
   ],
   "source": [
    "decorated_display()"
   ]
  },
  {
   "cell_type": "code",
   "execution_count": 21,
   "metadata": {
    "collapsed": true
   },
   "outputs": [],
   "source": [
    "def decorator_function(original_function):\n",
    "    def wrapper_function():\n",
    "        print(\"Wrapper executed this before {}\".format(\n",
    "              original_function.__name__))\n",
    "        return original_function()\n",
    "    # Return function\n",
    "    return wrapper_function\n",
    "\n",
    "def display():\n",
    "    print(\"Display function ran\")"
   ]
  },
  {
   "cell_type": "code",
   "execution_count": 22,
   "metadata": {},
   "outputs": [
    {
     "data": {
      "text/plain": [
       "<function __main__.decorator_function.<locals>.wrapper_function>"
      ]
     },
     "execution_count": 22,
     "metadata": {},
     "output_type": "execute_result"
    }
   ],
   "source": [
    "# Test it\n",
    "decorated_display = decorator_function(display)\n",
    "decorated_display"
   ]
  },
  {
   "cell_type": "code",
   "execution_count": 23,
   "metadata": {},
   "outputs": [
    {
     "name": "stdout",
     "output_type": "stream",
     "text": [
      "Wrapper executed this before display\n",
      "Display function ran\n"
     ]
    }
   ],
   "source": [
    "decorated_display()"
   ]
  },
  {
   "cell_type": "markdown",
   "metadata": {},
   "source": [
    "## Now decorate your functions\n",
    "**@Decorator_Function_name**"
   ]
  },
  {
   "cell_type": "code",
   "execution_count": 24,
   "metadata": {
    "collapsed": true
   },
   "outputs": [],
   "source": [
    "def decorator_function(original_function):\n",
    "    def wrapper_function():\n",
    "        print(\"Wrapper executed this before {}\".format(\n",
    "              original_function.__name__))\n",
    "        return original_function()\n",
    "    # Return function\n",
    "    return wrapper_function\n",
    "\n",
    "@decorator_function\n",
    "def display():\n",
    "    print(\"Display function ran\")"
   ]
  },
  {
   "cell_type": "code",
   "execution_count": 25,
   "metadata": {},
   "outputs": [
    {
     "name": "stdout",
     "output_type": "stream",
     "text": [
      "Wrapper executed this before display\n",
      "Display function ran\n"
     ]
    }
   ],
   "source": [
    "# Test it\n",
    "display()"
   ]
  },
  {
   "cell_type": "markdown",
   "metadata": {},
   "source": [
    "This will not work if our original function takes arguments"
   ]
  },
  {
   "cell_type": "code",
   "execution_count": 28,
   "metadata": {},
   "outputs": [],
   "source": [
    "@decorator_function\n",
    "def display_info(name, age):\n",
    "    print(\"display_info ran with arguments ({}, {})\".format(name, age))"
   ]
  },
  {
   "cell_type": "code",
   "execution_count": 29,
   "metadata": {},
   "outputs": [
    {
     "ename": "TypeError",
     "evalue": "wrapper_function() takes 0 positional arguments but 2 were given",
     "output_type": "error",
     "traceback": [
      "\u001b[1;31m---------------------------------------------------------------------------\u001b[0m",
      "\u001b[1;31mTypeError\u001b[0m                                 Traceback (most recent call last)",
      "\u001b[1;32m<ipython-input-29-8b5c0e2bbbfb>\u001b[0m in \u001b[0;36m<module>\u001b[1;34m()\u001b[0m\n\u001b[1;32m----> 1\u001b[1;33m \u001b[0mdisplay_info\u001b[0m\u001b[1;33m(\u001b[0m\u001b[1;34m\"Mario\"\u001b[0m\u001b[1;33m,\u001b[0m \u001b[1;36m21\u001b[0m\u001b[1;33m)\u001b[0m\u001b[1;33m\u001b[0m\u001b[0m\n\u001b[0m",
      "\u001b[1;31mTypeError\u001b[0m: wrapper_function() takes 0 positional arguments but 2 were given"
     ]
    }
   ],
   "source": [
    "display_info(\"Mario\", 21)"
   ]
  },
  {
   "cell_type": "markdown",
   "metadata": {},
   "source": [
    "We can fix this with **\\*args** and **\\*\\*kwargs**"
   ]
  },
  {
   "cell_type": "code",
   "execution_count": 30,
   "metadata": {
    "collapsed": true
   },
   "outputs": [],
   "source": [
    "def decorator_function(original_function):\n",
    "    def wrapper_function(*args, **kwargs):\n",
    "        print(\"Wrapper executed this before {}\".format(\n",
    "              original_function.__name__))\n",
    "        return original_function(*args, **kwargs)\n",
    "    # Return function\n",
    "    return wrapper_function\n",
    "\n",
    "@decorator_function\n",
    "def display():\n",
    "    print(\"Display function ran\")\n",
    "    \n",
    "@decorator_function\n",
    "def display_info(name, age):\n",
    "    print(\"display_info ran with arguments ({}, {})\".format(name, age))"
   ]
  },
  {
   "cell_type": "code",
   "execution_count": 31,
   "metadata": {},
   "outputs": [
    {
     "name": "stdout",
     "output_type": "stream",
     "text": [
      "Wrapper executed this before display\n",
      "Display function ran\n"
     ]
    }
   ],
   "source": [
    "# Test it\n",
    "display()"
   ]
  },
  {
   "cell_type": "code",
   "execution_count": 32,
   "metadata": {},
   "outputs": [
    {
     "name": "stdout",
     "output_type": "stream",
     "text": [
      "Wrapper executed this before display_info\n",
      "display_info ran with arguments (Mario, 21)\n"
     ]
    }
   ],
   "source": [
    "display_info(\"Mario\", 21)"
   ]
  },
  {
   "cell_type": "markdown",
   "metadata": {},
   "source": [
    "### Example: escape unicode"
   ]
  },
  {
   "cell_type": "code",
   "execution_count": 33,
   "metadata": {
    "collapsed": true
   },
   "outputs": [],
   "source": [
    "def escape_unicode(f):\n",
    "    def wrap(*args, **kwargs):\n",
    "        x = f(*args, **kwargs)\n",
    "        return ascii(x)\n",
    "    return wrap\n",
    "\n",
    "@escape_unicode\n",
    "def mexico_city():\n",
    "    # Alt + 130 for é\n",
    "    return \"México\""
   ]
  },
  {
   "cell_type": "code",
   "execution_count": 34,
   "metadata": {},
   "outputs": [
    {
     "data": {
      "text/plain": [
       "\"'M\\\\xe9xico'\""
      ]
     },
     "execution_count": 34,
     "metadata": {},
     "output_type": "execute_result"
    }
   ],
   "source": [
    "mexico_city()"
   ]
  },
  {
   "cell_type": "markdown",
   "metadata": {},
   "source": [
    "#### What can be a Decorator (callable object)?\n",
    "- Class Objects, which can be callable with the **dunder call**\n",
    "- Functions as decorators"
   ]
  },
  {
   "cell_type": "markdown",
   "metadata": {},
   "source": [
    "### Classes as Decorators"
   ]
  },
  {
   "cell_type": "code",
   "execution_count": 42,
   "metadata": {},
   "outputs": [],
   "source": [
    "class DecoratorClass(object):\n",
    "    def __init__(self, original_function):\n",
    "        self.original_function = original_function\n",
    "        \n",
    "    def __call__(self, *args, **kwargs):\n",
    "        print(\"Call method executed this before {}\".format(\n",
    "              self.original_function.__name__))\n",
    "        return self.original_function(*args, **kwargs)\n",
    "    \n",
    "@DecoratorClass\n",
    "def display():\n",
    "    print(\"Display function ran\")\n",
    "    \n",
    "@DecoratorClass\n",
    "def display_info(name, age):\n",
    "    print(\"display_info ran with arguments ({}, {})\".format(name, age))"
   ]
  },
  {
   "cell_type": "code",
   "execution_count": 43,
   "metadata": {},
   "outputs": [
    {
     "name": "stdout",
     "output_type": "stream",
     "text": [
      "Call method executed this before display\n",
      "Display function ran\n",
      "Call method executed this before display_info\n",
      "display_info ran with arguments (Mario, 21)\n"
     ]
    }
   ],
   "source": [
    "# Test it\n",
    "display()\n",
    "display_info(\"Mario\", 21)"
   ]
  },
  {
   "cell_type": "markdown",
   "metadata": {},
   "source": [
    "## Instances as Decorators\n",
    "A Class instance"
   ]
  },
  {
   "cell_type": "code",
   "execution_count": 46,
   "metadata": {
    "collapsed": true
   },
   "outputs": [],
   "source": [
    "class Trace:\n",
    "    def __init__(self):\n",
    "        self._enable = True\n",
    "        \n",
    "    def __call__(self, f):\n",
    "        def wrap(*args, **kwargs):\n",
    "            if self._enable:\n",
    "                print(\"Calling {}\".format(f.__name__))\n",
    "            return f(*args, **kwargs)\n",
    "        return wrap\n",
    "    \n",
    "# Create an instance\n",
    "tracer = Trace()\n",
    "# Instance as decorator\n",
    "@tracer\n",
    "def rotate_list(l):\n",
    "    return l[1:] + [l[0]]\n"
   ]
  },
  {
   "cell_type": "markdown",
   "metadata": {},
   "source": [
    "Unlike our previous example, the **class object itself is not the decorator.** Rather, instances of Trace can be used as decorators."
   ]
  },
  {
   "cell_type": "code",
   "execution_count": 47,
   "metadata": {},
   "outputs": [
    {
     "name": "stdout",
     "output_type": "stream",
     "text": [
      "Calling rotate_list\n"
     ]
    }
   ],
   "source": [
    "# Test it\n",
    "l1 = [1, 2, 3]\n",
    "l1 = rotate_list(l1)"
   ]
  },
  {
   "cell_type": "code",
   "execution_count": 48,
   "metadata": {},
   "outputs": [
    {
     "data": {
      "text/plain": [
       "[2, 3, 1]"
      ]
     },
     "execution_count": 48,
     "metadata": {},
     "output_type": "execute_result"
    }
   ],
   "source": [
    "l1"
   ]
  },
  {
   "cell_type": "code",
   "execution_count": 49,
   "metadata": {
    "collapsed": true
   },
   "outputs": [],
   "source": [
    "# Turn off the enable key from the instance\n",
    "tracer._enable = False\n",
    "l1 = [1, 2, 3]\n",
    "l1 = rotate_list(l1)"
   ]
  },
  {
   "cell_type": "markdown",
   "metadata": {},
   "source": [
    "## Back to function decorators"
   ]
  },
  {
   "cell_type": "code",
   "execution_count": 50,
   "metadata": {
    "collapsed": true
   },
   "outputs": [],
   "source": [
    "import time\n",
    "def my_timer(original_function):\n",
    "    \"\"\"\n",
    "    Helps you keep track of the loggin part of a function\n",
    "    \"\"\"\n",
    "    def wrapper(*args, **kwargs):\n",
    "        t1 = time.time()\n",
    "        result = original_function(*args, **kwargs)\n",
    "        t2 = time.time() - t1\n",
    "        print(\"{} ran in: {}\".format(original_function.__name__, t2))\n",
    "        return result\n",
    "    \n",
    "    return wrapper\n",
    "\n",
    "# Test it\n",
    "@my_timer\n",
    "def display_info(name, age):\n",
    "    time.sleep(1)\n",
    "    print(\"Display_info ran wwith arguments ({}, {})\".format(\n",
    "          name, age))"
   ]
  },
  {
   "cell_type": "code",
   "execution_count": 51,
   "metadata": {},
   "outputs": [
    {
     "name": "stdout",
     "output_type": "stream",
     "text": [
      "Display_info ran wwith arguments (Mario, 21)\n",
      "display_info ran in: 1.0020768642425537\n"
     ]
    }
   ],
   "source": [
    "# Test it\n",
    "display_info(\"Mario\", 21)"
   ]
  },
  {
   "cell_type": "markdown",
   "metadata": {},
   "source": [
    "## Multiple decorators"
   ]
  },
  {
   "cell_type": "code",
   "execution_count": 53,
   "metadata": {},
   "outputs": [],
   "source": [
    "def my_logger(original_func):\n",
    "    import logging\n",
    "    logging.basicConfig(filename= '{}.log'.format(\n",
    "                        original_func.__name__), \n",
    "                        level=logging.INFO)\n",
    "    def wrapper(*args, **kwargs):\n",
    "        logging.info(\"Ran with args: {}, and kwargs: {}\".format(\n",
    "                    args, kwargs))\n",
    "        return original_func(*args, **kwargs)\n",
    "    return wrapper\n",
    "\n",
    "@my_logger\n",
    "def display_info(name, age):\n",
    "    time.sleep(1)\n",
    "    print(\"Display_info ran wwith arguments ({}, {})\".format(\n",
    "          name, age))"
   ]
  },
  {
   "cell_type": "code",
   "execution_count": 54,
   "metadata": {},
   "outputs": [
    {
     "name": "stdout",
     "output_type": "stream",
     "text": [
      "Display_info ran wwith arguments (Weber, 125)\n"
     ]
    }
   ],
   "source": [
    "# Test it\n",
    "display_info(\"Weber\", 125)"
   ]
  },
  {
   "cell_type": "code",
   "execution_count": 55,
   "metadata": {},
   "outputs": [
    {
     "name": "stdout",
     "output_type": "stream",
     "text": [
      "Display_info ran wwith arguments (Mario, 21)\n",
      "wrapper ran in: 1.0141632556915283\n"
     ]
    }
   ],
   "source": [
    "# Test it with multiple decorators\n",
    "@my_timer\n",
    "@my_logger\n",
    "def display_info(name, age):\n",
    "    time.sleep(1)\n",
    "    print(\"Display_info ran with arguments ({}, {})\".format(\n",
    "          name, age))\n",
    "# Test it\n",
    "display_info(\"Mario\", 21)"
   ]
  },
  {
   "cell_type": "code",
   "execution_count": 56,
   "metadata": {},
   "outputs": [
    {
     "name": "stdout",
     "output_type": "stream",
     "text": [
      "Display_info ran wwith arguments (Mario, 21)\n",
      "display_info ran in: 1.0011084079742432\n"
     ]
    }
   ],
   "source": [
    "# Switch the order of the decorators\n",
    "# Test it with multiple decorators\n",
    "@my_logger\n",
    "@my_timer\n",
    "def display_info(name, age):\n",
    "    time.sleep(1)\n",
    "    print(\"Display_info ran with arguments ({}, {})\".format(\n",
    "          name, age))\n",
    "# Test it\n",
    "display_info(\"Mario\", 21)"
   ]
  },
  {
   "cell_type": "markdown",
   "metadata": {},
   "source": [
    "Wrap ***everything!!!***"
   ]
  },
  {
   "cell_type": "code",
   "execution_count": 57,
   "metadata": {
    "collapsed": true
   },
   "outputs": [],
   "source": [
    "import time\n",
    "from functools import wraps\n",
    "\n",
    "def my_logger(original_func):\n",
    "    import logging\n",
    "    logging.basicConfig(filename= '{}.log'.format(\n",
    "                        original_func.__name__), \n",
    "                        level=logging.INFO)\n",
    "    @wraps(original_func)\n",
    "    def wrapper(*args, **kwargs):\n",
    "        logging.info(\"Ran with args: {}, and kwargs: {}\".format(\n",
    "                    args, kwargs))\n",
    "        return original_func(*args, **kwargs)\n",
    "    \n",
    "    return wrapper\n",
    "\n",
    "def my_timer(original_function):\n",
    "    @wraps(original_function)\n",
    "    def wrapper(*args, **kwargs):\n",
    "        t1 = time.time()\n",
    "        result = original_function(*args, **kwargs)\n",
    "        t2 = time.time() - t1\n",
    "        print(\"{} ran in: {}\".format(original_function.__name__, t2))\n",
    "        return result\n",
    "    \n",
    "    return wrapper"
   ]
  },
  {
   "cell_type": "code",
   "execution_count": 58,
   "metadata": {},
   "outputs": [
    {
     "name": "stdout",
     "output_type": "stream",
     "text": [
      "Display_info ran with arguments (Mario, 21)\n",
      "display_info ran in: 1.0023612976074219\n"
     ]
    }
   ],
   "source": [
    "# Test it with multiple decorators\n",
    "@my_timer\n",
    "@my_logger\n",
    "def display_info(name, age):\n",
    "    time.sleep(1)\n",
    "    print(\"Display_info ran with arguments ({}, {})\".format(\n",
    "          name, age))\n",
    "# Test it\n",
    "display_info(\"Mario\", 21)"
   ]
  },
  {
   "cell_type": "code",
   "execution_count": 59,
   "metadata": {},
   "outputs": [
    {
     "name": "stdout",
     "output_type": "stream",
     "text": [
      "Display_info ran with arguments (Mario, 21)\n",
      "display_info ran in: 1.000105857849121\n"
     ]
    }
   ],
   "source": [
    "# Switch the order of the decorators\n",
    "# Test it with multiple decorators\n",
    "@my_logger\n",
    "@my_timer\n",
    "def display_info(name, age):\n",
    "    time.sleep(1)\n",
    "    print(\"Display_info ran with arguments ({}, {})\".format(\n",
    "          name, age))\n",
    "# Test it\n",
    "display_info(\"Mario\", 21)"
   ]
  },
  {
   "cell_type": "code",
   "execution_count": null,
   "metadata": {
    "collapsed": true
   },
   "outputs": [],
   "source": []
  }
 ],
 "metadata": {
  "kernelspec": {
   "display_name": "Python 3",
   "language": "python",
   "name": "python3"
  },
  "language_info": {
   "codemirror_mode": {
    "name": "ipython",
    "version": 3
   },
   "file_extension": ".py",
   "mimetype": "text/x-python",
   "name": "python",
   "nbconvert_exporter": "python",
   "pygments_lexer": "ipython3",
   "version": "3.5.1"
  }
 },
 "nbformat": 4,
 "nbformat_minor": 2
}
